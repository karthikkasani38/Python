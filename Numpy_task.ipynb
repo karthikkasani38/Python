{
 "cells": [
  {
   "cell_type": "code",
   "execution_count": 1,
   "metadata": {},
   "outputs": [],
   "source": [
    "import numpy as np"
   ]
  },
  {
   "cell_type": "code",
   "execution_count": 13,
   "metadata": {},
   "outputs": [
    {
     "name": "stdout",
     "output_type": "stream",
     "text": [
      "[0 0 0 0 1 0 0 0 0 0]\n",
      "[0 0 0 0 1 0 0 0 0 0]\n"
     ]
    }
   ],
   "source": [
    "#1\n",
    "arr=np.zeros(10)\n",
    "arr[4]=1\n",
    "print(arr.astype(int))\n",
    "print((np.arange(10)==4).astype(int))"
   ]
  },
  {
   "cell_type": "code",
   "execution_count": 11,
   "metadata": {},
   "outputs": [
    {
     "data": {
      "text/plain": [
       "array([10, 11, 12, 13, 14, 15, 16, 17, 18, 19, 20, 21, 22, 23, 24, 25, 26,\n",
       "       27, 28, 29, 30, 31, 32, 33, 34, 35, 36, 37, 38, 39, 40, 41, 42, 43,\n",
       "       44, 45, 46, 47, 48, 49])"
      ]
     },
     "execution_count": 11,
     "metadata": {},
     "output_type": "execute_result"
    }
   ],
   "source": [
    "#2\n",
    "np.arange(10,50)"
   ]
  },
  {
   "cell_type": "code",
   "execution_count": 15,
   "metadata": {},
   "outputs": [
    {
     "data": {
      "text/plain": [
       "array([9, 8, 7, 6, 5, 4, 3, 2, 1, 0])"
      ]
     },
     "execution_count": 15,
     "metadata": {},
     "output_type": "execute_result"
    }
   ],
   "source": [
    "#3\n",
    "np.arange(10)[::-1]"
   ]
  },
  {
   "cell_type": "code",
   "execution_count": 17,
   "metadata": {},
   "outputs": [
    {
     "data": {
      "text/plain": [
       "array([[0, 1, 2],\n",
       "       [3, 4, 5],\n",
       "       [6, 7, 8]])"
      ]
     },
     "execution_count": 17,
     "metadata": {},
     "output_type": "execute_result"
    }
   ],
   "source": [
    "#4\n",
    "np.arange(0,9).reshape(3,3)"
   ]
  },
  {
   "cell_type": "code",
   "execution_count": 20,
   "metadata": {},
   "outputs": [
    {
     "data": {
      "text/plain": [
       "array([[0],\n",
       "       [1],\n",
       "       [4]])"
      ]
     },
     "execution_count": 20,
     "metadata": {},
     "output_type": "execute_result"
    }
   ],
   "source": [
    "#5\n",
    "arr=np.array([1,2,0,0,4,0])\n",
    "np.argwhere(arr!=0)"
   ]
  },
  {
   "cell_type": "code",
   "execution_count": 24,
   "metadata": {},
   "outputs": [
    {
     "data": {
      "text/plain": [
       "array([[[0.4150682 , 0.17058448, 0.25467428],\n",
       "        [0.38609171, 0.09609935, 0.45171014],\n",
       "        [0.41662892, 0.18819001, 0.12392492]],\n",
       "\n",
       "       [[0.3408408 , 0.78802961, 0.09383164],\n",
       "        [0.69982418, 0.50939557, 0.74912531],\n",
       "        [0.14035858, 0.94780614, 0.95229187]],\n",
       "\n",
       "       [[0.46601576, 0.23035949, 0.25239467],\n",
       "        [0.40604189, 0.88373078, 0.85263905],\n",
       "        [0.37249087, 0.954715  , 0.77880575]]])"
      ]
     },
     "execution_count": 24,
     "metadata": {},
     "output_type": "execute_result"
    }
   ],
   "source": [
    "#6\n",
    "np.random.rand(3,3,3)"
   ]
  },
  {
   "cell_type": "code",
   "execution_count": 30,
   "metadata": {},
   "outputs": [
    {
     "name": "stdout",
     "output_type": "stream",
     "text": [
      "[[0.43708102 0.57871924 0.05432426 0.44058533 0.35268334 0.6469785\n",
      "  0.9078356  0.27433011 0.67142176 0.99070003]\n",
      " [0.71790831 0.49004983 0.57357307 0.51414331 0.84155428 0.89876896\n",
      "  0.89585994 0.09406433 0.1954487  0.30435029]\n",
      " [0.76058938 0.60493766 0.05000337 0.79120536 0.56151203 0.38919882\n",
      "  0.03738607 0.42679912 0.08666297 0.79643622]\n",
      " [0.8479696  0.7694877  0.65927591 0.47316775 0.14093002 0.30591512\n",
      "  0.11083208 0.86139089 0.2404673  0.41349985]\n",
      " [0.89340053 0.41859073 0.86213732 0.75198203 0.37754978 0.51033448\n",
      "  0.7432761  0.44045522 0.49211509 0.48226864]\n",
      " [0.67777817 0.34952612 0.2035498  0.57058365 0.70870409 0.86504772\n",
      "  0.74282712 0.96274714 0.84475116 0.20714014]\n",
      " [0.85260991 0.35641301 0.73849035 0.47747398 0.65186888 0.10361171\n",
      "  0.95334696 0.18032156 0.99674418 0.92253219]\n",
      " [0.58933528 0.00759659 0.17445194 0.67734743 0.50411596 0.63078187\n",
      "  0.34547723 0.48753085 0.67156464 0.12691692]\n",
      " [0.77728045 0.83711614 0.98550728 0.2825745  0.53344587 0.99839547\n",
      "  0.315078   0.00408343 0.72405997 0.88984731]\n",
      " [0.62314318 0.40602832 0.16381431 0.24970058 0.04357371 0.51243516\n",
      "  0.46376798 0.66496239 0.716747   0.10319911]]\n"
     ]
    },
    {
     "data": {
      "text/plain": [
       "(0.004083432658898212, 0.9983954709124324)"
      ]
     },
     "execution_count": 30,
     "metadata": {},
     "output_type": "execute_result"
    }
   ],
   "source": [
    "#7\n",
    "arr=np.random.rand(10,10)\n",
    "print(arr)\n",
    "arr.min(),arr.max()"
   ]
  },
  {
   "cell_type": "code",
   "execution_count": 34,
   "metadata": {},
   "outputs": [
    {
     "name": "stdout",
     "output_type": "stream",
     "text": [
      "[[1 1 1 1 1 1 1 1]\n",
      " [1 0 0 0 0 0 0 1]\n",
      " [1 0 0 0 0 0 0 1]\n",
      " [1 0 0 0 0 0 0 1]\n",
      " [1 0 0 0 0 0 0 1]\n",
      " [1 0 0 0 0 0 0 1]\n",
      " [1 0 0 0 0 0 0 1]\n",
      " [1 1 1 1 1 1 1 1]]\n"
     ]
    }
   ],
   "source": [
    "#8\n",
    "arr=np.ones((8,8)).astype(int)\n",
    "arr[1:-1,1:-1]=0\n",
    "print(arr)"
   ]
  },
  {
   "cell_type": "code",
   "execution_count": null,
   "metadata": {},
   "outputs": [],
   "source": []
  }
 ],
 "metadata": {
  "kernelspec": {
   "display_name": "Python 3",
   "language": "python",
   "name": "python3"
  },
  "language_info": {
   "codemirror_mode": {
    "name": "ipython",
    "version": 3
   },
   "file_extension": ".py",
   "mimetype": "text/x-python",
   "name": "python",
   "nbconvert_exporter": "python",
   "pygments_lexer": "ipython3",
   "version": "3.7.6"
  }
 },
 "nbformat": 4,
 "nbformat_minor": 4
}
