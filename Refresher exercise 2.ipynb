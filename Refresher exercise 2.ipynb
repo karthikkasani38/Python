{
 "cells": [
  {
   "cell_type": "code",
   "execution_count": 5,
   "metadata": {},
   "outputs": [
    {
     "name": "stdout",
     "output_type": "stream",
     "text": [
      "[('RAVI', 4), ('SANJEEV', 7), ('JHN', 3)]\n"
     ]
    }
   ],
   "source": [
    "#1)\n",
    "def names(list1):\n",
    "    return list(zip([i.upper() for i in list1],[len(i) for i in list1]))\n",
    "result=names(['Ravi','Sanjeev','John)\n",
    "print(result)"
   ]
  },
  {
   "cell_type": "code",
   "execution_count": 10,
   "metadata": {},
   "outputs": [
    {
     "name": "stdout",
     "output_type": "stream",
     "text": [
      "[1984, 13, 1000]\n"
     ]
    }
   ],
   "source": [
    "#2\n",
    "def sentence(text):\n",
    "    l=text.split()\n",
    "    res=[int(i) for i in l if i.isdigit()==True]\n",
    "    return res\n",
    "print(sentence('n 1984 there were 13 instances of a   protest with over 1000 people attending'))\n"
   ]
  },
  {
   "cell_type": "code",
   "execution_count": null,
   "metadata": {},
   "outputs": [],
   "source": []
  }
 ],
 "metadata": {
  "kernelspec": {
   "display_name": "Python 3",
   "language": "python",
   "name": "python3"
  },
  "language_info": {
   "codemirror_mode": {
    "name": "ipython",
    "version": 3
   },
   "file_extension": ".py",
   "mimetype": "text/x-python",
   "name": "python",
   "nbconvert_exporter": "python",
   "pygments_lexer": "ipython3",
   "version": "3.7.6"
  }
 },
 "nbformat": 4,
 "nbformat_minor": 4
}
